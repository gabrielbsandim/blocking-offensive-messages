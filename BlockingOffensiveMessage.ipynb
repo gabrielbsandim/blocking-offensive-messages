{
  "nbformat": 4,
  "nbformat_minor": 0,
  "metadata": {
    "colab": {
      "provenance": [],
      "authorship_tag": "ABX9TyMAZtJo9dretQjrVJs8D5Iw",
      "include_colab_link": true
    },
    "kernelspec": {
      "name": "python3",
      "display_name": "Python 3"
    },
    "language_info": {
      "name": "python"
    }
  },
  "cells": [
    {
      "cell_type": "markdown",
      "metadata": {
        "id": "view-in-github",
        "colab_type": "text"
      },
      "source": [
        "<a href=\"https://colab.research.google.com/github/gabrielbsandim/blocking-offensive-messages/blob/main/BlockingOffensiveMessage.ipynb\" target=\"_parent\"><img src=\"https://colab.research.google.com/assets/colab-badge.svg\" alt=\"Open In Colab\"/></a>"
      ]
    },
    {
      "cell_type": "code",
      "execution_count": null,
      "metadata": {
        "id": "DtcdCFg5DnrE"
      },
      "outputs": [],
      "source": [
        "from typing import Text\n",
        "import google.generativeai as genai\n",
        "from google.colab import userdata\n",
        "\n",
        "genai.configure(api_key=userdata.get('API_KEY'))\n",
        "\n",
        "model_name = 'gemini-1.5-pro-latest'\n",
        "\n",
        "generation_config = {\n",
        "  'candidate_count': 1,\n",
        "  'temperature': 0.5,\n",
        "}\n",
        "\n",
        "safety_settings={\n",
        "  'HATE': 'BLOCK_NONE',\n",
        "  'HARASSMENT': 'BLOCK_NONE',\n",
        "  'SEXUAL' : 'BLOCK_NONE',\n",
        "  'DANGEROUS' : 'BLOCK_NONE'\n",
        "}\n",
        "\n",
        "system_instruction = system_instruction = \"\"\"\n",
        "Você deve agir como um analista de mensagens ofensivas e bloqueá-las.\n",
        "\n",
        "Você receberá mensagens que podem ser um novo comentário em fotos ou uma mensagem no X e seu dever é analisar a mensagem e verificar se ela é ofensiva.\n",
        "\n",
        "Exemplo:\n",
        "Texto: Você é muito legal!\n",
        "Resposta: Parabéns! Sua mensagem não é ofensiva.\n",
        "\n",
        "Texto: Você é burro!\n",
        "Resposta: Cuidado! Sua mensagem é ofensiva.\n",
        "\"\"\"\n",
        "\n",
        "model = genai.GenerativeModel(model_name=model_name,\n",
        "                                  generation_config=generation_config,\n",
        "                                  system_instruction=system_instruction,\n",
        "                                  safety_settings=safety_settings)\n",
        "\n",
        "chat = model.start_chat(history=[])\n",
        "\n",
        "print('----------------------------------')\n",
        "print('   Blocking Offensive Messages')\n",
        "print('----------------------------------\\n\\n')\n",
        "\n",
        "while True:\n",
        "  print('New message:\\n')\n",
        "  prompt = input()\n",
        "\n",
        "  if prompt == 'finish':\n",
        "    break\n",
        "\n",
        "  print('\\n-------------------------')\n",
        "  print('     Analysing...')\n",
        "  print('-------------------------\\n')\n",
        "\n",
        "  response = chat.send_message(prompt)\n",
        "\n",
        "  print('\\nResult:\\n')\n",
        "  print(response.text)\n",
        "  print('\\n-------------------------\\n\\n')\n"
      ]
    }
  ]
}